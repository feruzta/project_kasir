{
 "cells": [
  {
   "cell_type": "code",
   "execution_count": 17,
   "id": "bae7a3e1",
   "metadata": {},
   "outputs": [],
   "source": [
    "import pandas as pd\n",
    "from tabulate import tabulate"
   ]
  },
  {
   "cell_type": "code",
   "execution_count": 18,
   "id": "a38b1f71",
   "metadata": {},
   "outputs": [],
   "source": [
    "#main\n",
    "#buat class\n",
    "class Transaction:\n",
    "    #metode untuk inisialisasi awal list item transaksi\n",
    "    def __init__(self):\n",
    "        \"\"\"\n",
    "        fungsi untuk inisialisasi list\n",
    "        \"\"\"\n",
    "        self.data_transaksi = list()\n",
    "\n",
    "    #metode untuk mengganti nama, kuantitas, atau harga di dalam list item transaksi   \n",
    "    def add_item(self, nama_item, jumlah_item, harga_item):\n",
    "        \"\"\"\n",
    "        fungsi untuk menambahkan data transaksi\n",
    "        \n",
    "        parameters\n",
    "        nama_item      :str - nama item yang akan ditambahkan\n",
    "        jumlah_item    :int - jumlah item yang akan dibeli\n",
    "        harga_item     :int - harga per item yang akan dibeli\n",
    "        \"\"\"\n",
    "        self.data_transaksi.append([nama_item, jumlah_item, harga_item])\n",
    "        print(\"Item berhasil ditambahkan!\")\n",
    "    \n",
    "    #metode untuk mengganti nama, kuantitas, atau harga di dalam list item transaksi\n",
    "    def update_item_name(self, nama_item, new_nama_item):\n",
    "        \"\"\"\n",
    "        fungsi untuk mengupdate nama item\n",
    "        \"\"\"\n",
    "        self.data_transaksi[self.index_transaksi(nama_item)][0] = new_nama_item\n",
    "        print(\"Nama item berhasil diganti!\")\n",
    "        \n",
    "    def update_item_qty(self, nama_item, new_jumlah_item):\n",
    "        \"\"\"\n",
    "        fungsi untuk mengupdate jumlah item\n",
    "        \"\"\"\n",
    "        self.data_transaksi[self.index_transaksi(nama_item)][1] = new_jumlah_item\n",
    "        print(\"Jumlah item berhasil diganti!\")\n",
    "    \n",
    "    def update_item_price(self, nama_item, new_harga_item):\n",
    "        \"\"\"\n",
    "        fungsi untuk mengupdate harga per item\n",
    "        \"\"\"\n",
    "        self.data_transaksi[self.index_transaksi(nama_item)][2] = new_harga_item\n",
    "        print(\"Harga item berhasil diganti!\")\n",
    "    \n",
    "    #metode untuk memberi index di dalam list item transaksi\n",
    "    def index_transaksi(self, nama_item):\n",
    "        \"\"\"\n",
    "        fungsi mengembalikan nilai index dari baris yang mengandung value 'nama_item'\n",
    "\n",
    "        parameters\n",
    "        nama_item   : str   nama item yang akan ditambahkan\n",
    "\n",
    "        return\n",
    "        i       : int   index dari baris yang mengandung judul\n",
    "        \"\"\"\n",
    "        for i in range(len(self.data_transaksi)):\n",
    "            if nama_item == self.data_transaksi[i][0]:\n",
    "                return i\n",
    "    \n",
    "    #metode untuk menghapus salah satu item yang tidak jadi dibeli di dalam list item transaksi\n",
    "    def delete_item(self, nama_item):\n",
    "        \"\"\"\n",
    "        fungsi untuk menghapus baris pada suatu item yang tidak jadi dibeli\n",
    "        \"\"\"\n",
    "        \n",
    "        del_list = [nama_item, self.data_transaksi[self.index_transaksi(nama_item)][1], self.data_transaksi[self.index_transaksi(nama_item)][2]]\n",
    "\n",
    "        while(del_list in self.data_transaksi):\n",
    "            self.data_transaksi.remove(del_list)\n",
    "        \n",
    "        print(\"Item berhasil di delete!\")\n",
    "        \n",
    "    #metode untuk reset semua transaksi\n",
    "    def reset_transaction(self):\n",
    "        \"\"\"\n",
    "        fungsi untuk reset semua transaksi\n",
    "        \"\"\"\n",
    "        self.data_transaksi = list()\n",
    "        print(\"Semua item berhasil di delete!\")\n",
    "        \n",
    "    #metode untuk mengecek kembali pesanan di dalam list item transaksi\n",
    "    def check_order(self):\n",
    "        \"\"\"\n",
    "        fungsi untuk menampilkan seluruh order dari transaksi,\n",
    "        \"\"\"\n",
    "        if self.data_transaksi == []:\n",
    "            \"\"\"\n",
    "            Jika list kosong, akan menampilkan strip pada setiap kolom\n",
    "            \"\"\"\n",
    "            data = {'Nama Item': ['-'],\n",
    "                    'Jumlah Item': [0],\n",
    "                    'Harga/Item': [0],\n",
    "                    'Harga Total': [0]}\n",
    "            df = pd.DataFrame(data)  \n",
    "            print(df.to_markdown())\n",
    "        \n",
    "        else:\n",
    "            \"\"\"\n",
    "            menambahkan list pada tabel\n",
    "            \"\"\"\n",
    "            for i in range(len(self.data_transaksi)):\n",
    "                if isinstance(self.data_transaksi[i][0], str) and isinstance(self.data_transaksi[i][1], int) and isinstance(self.data_transaksi[i][2], int):              \n",
    "                    data = pd.DataFrame(self.data_transaksi)\n",
    "                    data.columns = ['Nama Item', 'Jumlah Item', 'Harga/Item']\n",
    "\n",
    "                    \"\"\"\n",
    "                    memanggil harga total\n",
    "                    \"\"\"\n",
    "                    data['Harga Total'] = data['Jumlah Item'] * data['Harga/Item']\n",
    "\n",
    "                    print(\"Pemesanan Berhasil!\\n\\n\")\n",
    "                    print(data.to_markdown())\n",
    "\n",
    "                    return\n",
    "\n",
    "                else:\n",
    "                    print(\"Terdapat kesalahan input data\")\n",
    "                    return\n",
    "    \n",
    "    #metode untuk mencari total harga yang harus dibayarkan beserta diskon yang didapatkan\n",
    "    def total_price(self):\n",
    "        \"\"\"\n",
    "        fungsi untuk mencari total harga yang harus dibayarkan\n",
    "        \"\"\"\n",
    "        if self.data_transaksi == []:\n",
    "            \"\"\"\n",
    "            Jika list kosong, akan menampilkan strip pada setiap kolom\n",
    "            \"\"\"\n",
    "            data = {'Nama Item': ['-'],\n",
    "                    'Jumlah Item': [0],\n",
    "                    'Harga/Item': [0],\n",
    "                    'Harga Total': [0]}\n",
    "            df = pd.DataFrame(data)  \n",
    "            print(df.to_markdown())\n",
    "        \n",
    "        else:\n",
    "            \"\"\"\n",
    "            menambahkan list pada tabel\n",
    "            \"\"\"\n",
    "            for i in range(len(self.data_transaksi)):\n",
    "                if isinstance(self.data_transaksi[i][0], str) and isinstance(self.data_transaksi[i][1], int) and isinstance(self.data_transaksi[i][2], int):              \n",
    "                    data = pd.DataFrame(self.data_transaksi)\n",
    "                    data.columns = ['Nama Item', 'Jumlah Item', 'Harga/Item']\n",
    "\n",
    "                    \"\"\"\n",
    "                    memanggil harga total\n",
    "                    \"\"\"\n",
    "                    data['Harga Total'] = data['Jumlah Item'] * data['Harga/Item']\n",
    "\n",
    "                    print(data.to_markdown())\n",
    "                    print(f\"\\n\\nHarga Total = Rp.{data['Harga Total'].sum()}\")\n",
    "        \n",
    "                    \"\"\"\n",
    "                    menggunakan conditioning untuk diskon 5%, 8%, dan 10%\n",
    "                    \"\"\"\n",
    "                    if data['Harga Total'].sum() < 200_000:\n",
    "                        pass\n",
    "\n",
    "                    elif (data['Harga Total'].sum() > 200_000) and (data['Harga Total'].sum() <= 300_000):\n",
    "                        harga_diskon = data['Harga Total'].sum() * 0.95\n",
    "                        print(f\"\\n\\nAnda mendapatkan diskon 5%! \\n\\nSetelah diskon, harga total menjadi Rp.{harga_diskon}\")\n",
    "\n",
    "                    elif (data['Harga Total'].sum() > 300_000) and (data['Harga Total'].sum() <= 500_000):\n",
    "                        harga_diskon = data['Harga Total'].sum() * 0.92\n",
    "                        print(f\"\\n\\nAnda mendapatkan diskon 8%! \\n\\nSetelah diskon, harga total menjadi Rp.{harga_diskon}\")\n",
    "\n",
    "                    elif (data['Harga Total'].sum() > 500_000):\n",
    "                        harga_diskon = data['Harga Total'].sum() * 0.90\n",
    "                        print(f\"\\n\\nAnda mendapatkan diskon 10%! \\n\\nSetelah diskon, harga total menjadi Rp.{harga_diskon}\")\n",
    "\n",
    "                    else:\n",
    "                        pass\n",
    "\n",
    "                    return\n",
    "\n",
    "    #metode untuk check data di dalam list item transaksi\n",
    "    def check_data_transaksi(self):\n",
    "        print(f\"Item yang dibeli adalah: {self.data_transaksi}\")\n",
    "    \n",
    "    \n",
    "        \n",
    "        "
   ]
  },
  {
   "cell_type": "code",
   "execution_count": 19,
   "id": "f36c55a6",
   "metadata": {},
   "outputs": [
    {
     "name": "stdout",
     "output_type": "stream",
     "text": [
      "Item yang dibeli adalah: []\n"
     ]
    }
   ],
   "source": [
    "#running metode untuk pertama kali\n",
    "trnsct_123 = Transaction()\n",
    "#check awal list item transaksi\n",
    "trnsct_123.check_data_transaksi()"
   ]
  },
  {
   "cell_type": "code",
   "execution_count": 20,
   "id": "9d5ec239",
   "metadata": {},
   "outputs": [
    {
     "name": "stdout",
     "output_type": "stream",
     "text": [
      "Item berhasil ditambahkan!\n",
      "Item berhasil ditambahkan!\n",
      "Item yang dibeli adalah: [['Ayam Goreng', 2, 20000], ['Pasta Gigi', 3, 15000]]\n"
     ]
    }
   ],
   "source": [
    "\"\"\"\n",
    "Test 1:\n",
    "Menambahkan item berikut:\n",
    "Nama Item: Ayam Goreng, Qty: 2, Harga: 20_000\n",
    "Nama Item: Pasta Gigi, Qty: 3, Harga: 15_000\n",
    "\"\"\"\n",
    "trnsct_123.add_item(\"Ayam Goreng\", 2, 20_000)\n",
    "trnsct_123.add_item(\"Pasta Gigi\", 3, 15_000)\n",
    "#check kembali list\n",
    "trnsct_123.check_data_transaksi()"
   ]
  },
  {
   "cell_type": "code",
   "execution_count": 21,
   "id": "8030a6e8",
   "metadata": {},
   "outputs": [
    {
     "name": "stdout",
     "output_type": "stream",
     "text": [
      "Item berhasil di delete!\n",
      "Item yang dibeli adalah: [['Ayam Goreng', 2, 20000]]\n"
     ]
    }
   ],
   "source": [
    "\"\"\"\n",
    "Test 2:\n",
    "Menghapus item Pasta Gigi dari list\n",
    "\"\"\"\n",
    "trnsct_123.delete_item(\"Pasta Gigi\")\n",
    "#check kembali list\n",
    "trnsct_123.check_data_transaksi()"
   ]
  },
  {
   "cell_type": "code",
   "execution_count": 22,
   "id": "3f019042",
   "metadata": {},
   "outputs": [
    {
     "name": "stdout",
     "output_type": "stream",
     "text": [
      "Semua item berhasil di delete!\n"
     ]
    }
   ],
   "source": [
    "\"\"\"\n",
    "Test 3:\n",
    "Reset semua item dari list\n",
    "\"\"\"\n",
    "trnsct_123.reset_transaction()"
   ]
  },
  {
   "cell_type": "code",
   "execution_count": 23,
   "id": "a0d0facd",
   "metadata": {},
   "outputs": [
    {
     "name": "stdout",
     "output_type": "stream",
     "text": [
      "|    | Nama Item   |   Jumlah Item |   Harga/Item |   Harga Total |\n",
      "|---:|:------------|--------------:|-------------:|--------------:|\n",
      "|  0 | -           |             0 |            0 |             0 |\n"
     ]
    }
   ],
   "source": [
    "\"\"\"\n",
    "Test 4:\n",
    "Mengeluarkan output total belanja\n",
    "\"\"\"\n",
    "trnsct_123.total_price()"
   ]
  },
  {
   "cell_type": "code",
   "execution_count": null,
   "id": "fd60fd44",
   "metadata": {},
   "outputs": [],
   "source": []
  }
 ],
 "metadata": {
  "kernelspec": {
   "display_name": "Python 3 (ipykernel)",
   "language": "python",
   "name": "python3"
  },
  "language_info": {
   "codemirror_mode": {
    "name": "ipython",
    "version": 3
   },
   "file_extension": ".py",
   "mimetype": "text/x-python",
   "name": "python",
   "nbconvert_exporter": "python",
   "pygments_lexer": "ipython3",
   "version": "3.9.7"
  },
  "latex_envs": {
   "LaTeX_envs_menu_present": true,
   "autoclose": false,
   "autocomplete": true,
   "bibliofile": "biblio.bib",
   "cite_by": "apalike",
   "current_citInitial": 1,
   "eqLabelWithNumbers": true,
   "eqNumInitial": 1,
   "hotkeys": {
    "equation": "Ctrl-E",
    "itemize": "Ctrl-I"
   },
   "labels_anchors": false,
   "latex_user_defs": false,
   "report_style_numbering": false,
   "user_envs_cfg": false
  },
  "toc": {
   "base_numbering": 1,
   "nav_menu": {},
   "number_sections": true,
   "sideBar": true,
   "skip_h1_title": false,
   "title_cell": "Table of Contents",
   "title_sidebar": "Contents",
   "toc_cell": false,
   "toc_position": {},
   "toc_section_display": true,
   "toc_window_display": false
  }
 },
 "nbformat": 4,
 "nbformat_minor": 5
}
